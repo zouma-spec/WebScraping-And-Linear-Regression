{
 "cells": [
  {
   "cell_type": "code",
   "execution_count": 643,
   "id": "5b6a1679",
   "metadata": {},
   "outputs": [],
   "source": [
    "import pandas as pd\n",
    "import numpy as np"
   ]
  },
  {
   "cell_type": "code",
   "execution_count": 644,
   "id": "63cb94c8",
   "metadata": {},
   "outputs": [],
   "source": [
    "df=pd.read_csv('Monitor_final.csv')"
   ]
  },
  {
   "cell_type": "code",
   "execution_count": 645,
   "id": "14d70a76",
   "metadata": {},
   "outputs": [
    {
     "data": {
      "text/html": [
       "<div>\n",
       "<style scoped>\n",
       "    .dataframe tbody tr th:only-of-type {\n",
       "        vertical-align: middle;\n",
       "    }\n",
       "\n",
       "    .dataframe tbody tr th {\n",
       "        vertical-align: top;\n",
       "    }\n",
       "\n",
       "    .dataframe thead th {\n",
       "        text-align: right;\n",
       "    }\n",
       "</style>\n",
       "<table border=\"1\" class=\"dataframe\">\n",
       "  <thead>\n",
       "    <tr style=\"text-align: right;\">\n",
       "      <th></th>\n",
       "      <th>product_link</th>\n",
       "      <th>product_name</th>\n",
       "      <th>brand</th>\n",
       "      <th>current_price</th>\n",
       "      <th>rating</th>\n",
       "      <th>review_count</th>\n",
       "      <th>Refresh_Rate</th>\n",
       "      <th>Contrast_Ratio</th>\n",
       "      <th>Response_Time</th>\n",
       "      <th>Synchronization_Technology</th>\n",
       "      <th>...</th>\n",
       "      <th>Touch_Screen</th>\n",
       "      <th>Quantum_Dot_Technology</th>\n",
       "      <th>Headphone_Jack</th>\n",
       "      <th>Voice_Assistant</th>\n",
       "      <th>Wall_Mountable</th>\n",
       "      <th>Anti_Glare</th>\n",
       "      <th>Speaker</th>\n",
       "      <th>Webcam</th>\n",
       "      <th>Power_Consumption</th>\n",
       "      <th>Weight</th>\n",
       "    </tr>\n",
       "  </thead>\n",
       "  <tbody>\n",
       "    <tr>\n",
       "      <th>0</th>\n",
       "      <td>https://www.bestbuy.com/site/samsung-t350-seri...</td>\n",
       "      <td>Samsung - T350 Series 24\" IPS LED FHD, FreeSyn...</td>\n",
       "      <td>Samsung</td>\n",
       "      <td>$139.99</td>\n",
       "      <td>4.6</td>\n",
       "      <td>1838</td>\n",
       "      <td>75</td>\n",
       "      <td>1000</td>\n",
       "      <td>5.0</td>\n",
       "      <td>FreeSync (AMD Adaptive Sync)</td>\n",
       "      <td>...</td>\n",
       "      <td>No</td>\n",
       "      <td>No</td>\n",
       "      <td>No</td>\n",
       "      <td>No</td>\n",
       "      <td>Yes</td>\n",
       "      <td>NaN</td>\n",
       "      <td>No</td>\n",
       "      <td>No</td>\n",
       "      <td>35.0</td>\n",
       "      <td>5.95</td>\n",
       "    </tr>\n",
       "    <tr>\n",
       "      <th>1</th>\n",
       "      <td>https://www.bestbuy.com/site/samsung-390-serie...</td>\n",
       "      <td>Samsung - 390 Series 24\" LED Curved FHD FreeSy...</td>\n",
       "      <td>Samsung</td>\n",
       "      <td>$139.99</td>\n",
       "      <td>4.7</td>\n",
       "      <td>5106</td>\n",
       "      <td>60</td>\n",
       "      <td>3000</td>\n",
       "      <td>4.0</td>\n",
       "      <td>FreeSync (AMD Adaptive Sync)</td>\n",
       "      <td>...</td>\n",
       "      <td>No</td>\n",
       "      <td>NaN</td>\n",
       "      <td>Yes</td>\n",
       "      <td>No</td>\n",
       "      <td>Yes</td>\n",
       "      <td>No</td>\n",
       "      <td>No</td>\n",
       "      <td>No</td>\n",
       "      <td>25.0</td>\n",
       "      <td>7.30</td>\n",
       "    </tr>\n",
       "    <tr>\n",
       "      <th>2</th>\n",
       "      <td>https://www.bestbuy.com/site/lg-34-ultrawide-f...</td>\n",
       "      <td>LG 34” UltraWide Full HD HDR Monitor with Free...</td>\n",
       "      <td>LG</td>\n",
       "      <td>$299.99</td>\n",
       "      <td>4.5</td>\n",
       "      <td>425</td>\n",
       "      <td>75</td>\n",
       "      <td>1000</td>\n",
       "      <td>5.0</td>\n",
       "      <td>FreeSync (AMD Adaptive Sync)</td>\n",
       "      <td>...</td>\n",
       "      <td>No</td>\n",
       "      <td>No</td>\n",
       "      <td>Yes</td>\n",
       "      <td>Not Applicable</td>\n",
       "      <td>Yes</td>\n",
       "      <td>Yes</td>\n",
       "      <td>No</td>\n",
       "      <td>No</td>\n",
       "      <td>39.0</td>\n",
       "      <td>13.10</td>\n",
       "    </tr>\n",
       "    <tr>\n",
       "      <th>3</th>\n",
       "      <td>https://www.bestbuy.com/site/dell-s3222dgm-32-...</td>\n",
       "      <td>Dell - S3222DGM 32\" LED Curved QHD FreeSync Ga...</td>\n",
       "      <td>Dell</td>\n",
       "      <td>$299.99</td>\n",
       "      <td>4.8</td>\n",
       "      <td>277</td>\n",
       "      <td>165</td>\n",
       "      <td>3000</td>\n",
       "      <td>2.0</td>\n",
       "      <td>FreeSync Premium (AMD Adaptive Sync)</td>\n",
       "      <td>...</td>\n",
       "      <td>No</td>\n",
       "      <td>No</td>\n",
       "      <td>Yes</td>\n",
       "      <td>Not Applicable</td>\n",
       "      <td>Yes</td>\n",
       "      <td>Yes</td>\n",
       "      <td>No</td>\n",
       "      <td>No</td>\n",
       "      <td>19.9</td>\n",
       "      <td>22.40</td>\n",
       "    </tr>\n",
       "    <tr>\n",
       "      <th>4</th>\n",
       "      <td>https://www.bestbuy.com/site/samsung-ur55-seri...</td>\n",
       "      <td>Samsung - UR55 Series 28\" IPS 4K UHD Monitor -...</td>\n",
       "      <td>Samsung</td>\n",
       "      <td>$319.99</td>\n",
       "      <td>4.6</td>\n",
       "      <td>1840</td>\n",
       "      <td>60</td>\n",
       "      <td>1000</td>\n",
       "      <td>4.0</td>\n",
       "      <td>FreeSync (AMD Adaptive Sync)</td>\n",
       "      <td>...</td>\n",
       "      <td>No</td>\n",
       "      <td>No</td>\n",
       "      <td>No</td>\n",
       "      <td>No</td>\n",
       "      <td>Yes</td>\n",
       "      <td>NaN</td>\n",
       "      <td>No</td>\n",
       "      <td>No</td>\n",
       "      <td>40.0</td>\n",
       "      <td>12.80</td>\n",
       "    </tr>\n",
       "  </tbody>\n",
       "</table>\n",
       "<p>5 rows × 27 columns</p>\n",
       "</div>"
      ],
      "text/plain": [
       "                                        product_link  \\\n",
       "0  https://www.bestbuy.com/site/samsung-t350-seri...   \n",
       "1  https://www.bestbuy.com/site/samsung-390-serie...   \n",
       "2  https://www.bestbuy.com/site/lg-34-ultrawide-f...   \n",
       "3  https://www.bestbuy.com/site/dell-s3222dgm-32-...   \n",
       "4  https://www.bestbuy.com/site/samsung-ur55-seri...   \n",
       "\n",
       "                                        product_name    brand current_price  \\\n",
       "0  Samsung - T350 Series 24\" IPS LED FHD, FreeSyn...  Samsung       $139.99   \n",
       "1  Samsung - 390 Series 24\" LED Curved FHD FreeSy...  Samsung       $139.99   \n",
       "2  LG 34” UltraWide Full HD HDR Monitor with Free...       LG       $299.99   \n",
       "3  Dell - S3222DGM 32\" LED Curved QHD FreeSync Ga...     Dell       $299.99   \n",
       "4  Samsung - UR55 Series 28\" IPS 4K UHD Monitor -...  Samsung       $319.99   \n",
       "\n",
       "  rating review_count Refresh_Rate Contrast_Ratio  Response_Time  \\\n",
       "0    4.6         1838           75           1000            5.0   \n",
       "1    4.7         5106           60           3000            4.0   \n",
       "2    4.5          425           75           1000            5.0   \n",
       "3    4.8          277          165           3000            2.0   \n",
       "4    4.6         1840           60           1000            4.0   \n",
       "\n",
       "             Synchronization_Technology  ... Touch_Screen  \\\n",
       "0          FreeSync (AMD Adaptive Sync)  ...           No   \n",
       "1          FreeSync (AMD Adaptive Sync)  ...           No   \n",
       "2          FreeSync (AMD Adaptive Sync)  ...           No   \n",
       "3  FreeSync Premium (AMD Adaptive Sync)  ...           No   \n",
       "4          FreeSync (AMD Adaptive Sync)  ...           No   \n",
       "\n",
       "  Quantum_Dot_Technology  Headphone_Jack  Voice_Assistant  Wall_Mountable  \\\n",
       "0                     No              No               No             Yes   \n",
       "1                    NaN             Yes               No             Yes   \n",
       "2                     No             Yes   Not Applicable             Yes   \n",
       "3                     No             Yes   Not Applicable             Yes   \n",
       "4                     No              No               No             Yes   \n",
       "\n",
       "  Anti_Glare Speaker Webcam Power_Consumption Weight  \n",
       "0        NaN      No     No              35.0   5.95  \n",
       "1         No      No     No              25.0   7.30  \n",
       "2        Yes      No     No              39.0  13.10  \n",
       "3        Yes      No     No              19.9  22.40  \n",
       "4        NaN      No     No              40.0  12.80  \n",
       "\n",
       "[5 rows x 27 columns]"
      ]
     },
     "execution_count": 645,
     "metadata": {},
     "output_type": "execute_result"
    }
   ],
   "source": [
    "df.head(5)"
   ]
  },
  {
   "cell_type": "code",
   "execution_count": 646,
   "id": "29c8e1a8",
   "metadata": {},
   "outputs": [
    {
     "name": "stdout",
     "output_type": "stream",
     "text": [
      "<class 'pandas.core.frame.DataFrame'>\n",
      "RangeIndex: 1102 entries, 0 to 1101\n",
      "Data columns (total 27 columns):\n",
      " #   Column                      Non-Null Count  Dtype  \n",
      "---  ------                      --------------  -----  \n",
      " 0   product_link                1102 non-null   object \n",
      " 1   product_name                1102 non-null   object \n",
      " 2   brand                       1102 non-null   object \n",
      " 3   current_price               1102 non-null   object \n",
      " 4   rating                      1102 non-null   object \n",
      " 5   review_count                1102 non-null   object \n",
      " 6   Refresh_Rate                1094 non-null   object \n",
      " 7   Contrast_Ratio              1094 non-null   object \n",
      " 8   Response_Time               983 non-null    float64\n",
      " 9   Synchronization_Technology  1056 non-null   object \n",
      " 10  Panel_Type                  1088 non-null   object \n",
      " 11  Curved_Screen               1069 non-null   object \n",
      " 12  Pixel_Density               184 non-null    float64\n",
      " 13  Brightness                  1094 non-null   float64\n",
      " 14  Screen_Size                 1094 non-null   float64\n",
      " 15  HDR                         1061 non-null   object \n",
      " 16  Smart_Display               306 non-null    object \n",
      " 17  Touch_Screen                618 non-null    object \n",
      " 18  Quantum_Dot_Technology      187 non-null    object \n",
      " 19  Headphone_Jack              550 non-null    object \n",
      " 20  Voice_Assistant             374 non-null    object \n",
      " 21  Wall_Mountable              1073 non-null   object \n",
      " 22  Anti_Glare                  638 non-null    object \n",
      " 23  Speaker                     1042 non-null   object \n",
      " 24  Webcam                      1043 non-null   object \n",
      " 25  Power_Consumption           601 non-null    float64\n",
      " 26  Weight                      1094 non-null   float64\n",
      "dtypes: float64(6), object(21)\n",
      "memory usage: 232.6+ KB\n"
     ]
    }
   ],
   "source": [
    "df.info()"
   ]
  },
  {
   "cell_type": "code",
   "execution_count": 647,
   "id": "a4707da4",
   "metadata": {},
   "outputs": [],
   "source": [
    "df['current_price']=df['current_price'].str.strip(\"$\")\n",
    "df['current_price']=df['current_price'].str.replace(\",\",\"\")\n",
    "df['current_price']=df['current_price'].astype(\"float\")"
   ]
  },
  {
   "cell_type": "code",
   "execution_count": 648,
   "id": "84d6f648",
   "metadata": {},
   "outputs": [
    {
     "data": {
      "text/plain": [
       "60     393\n",
       "75     240\n",
       "144    169\n",
       "165    128\n",
       "240     62\n",
       "100     22\n",
       "120     20\n",
       "60k     12\n",
       "360      8\n",
       "70       8\n",
       "200      6\n",
       "80       4\n",
       "170      4\n",
       "160      4\n",
       "280      4\n",
       "71       2\n",
       "180      2\n",
       "150      2\n",
       "24       2\n",
       "76       2\n",
       "Name: Refresh_Rate, dtype: int64"
      ]
     },
     "execution_count": 648,
     "metadata": {},
     "output_type": "execute_result"
    }
   ],
   "source": [
    "df['Refresh_Rate'].value_counts()"
   ]
  },
  {
   "cell_type": "code",
   "execution_count": 649,
   "id": "59fe68c3",
   "metadata": {},
   "outputs": [],
   "source": [
    "df['Refresh_Rate']=df['Refresh_Rate'].str.strip(\"k\")\n",
    "df['Refresh_Rate']=df['Refresh_Rate'].astype(\"float\")"
   ]
  },
  {
   "cell_type": "code",
   "execution_count": 650,
   "id": "4005cbdc",
   "metadata": {},
   "outputs": [],
   "source": [
    "df.dropna(how='any', subset=['Refresh_Rate', 'Contrast_Ratio','Response_Time'],inplace=True)"
   ]
  },
  {
   "cell_type": "code",
   "execution_count": 651,
   "id": "0b8543bd",
   "metadata": {},
   "outputs": [
    {
     "name": "stdout",
     "output_type": "stream",
     "text": [
      "<class 'pandas.core.frame.DataFrame'>\n",
      "Int64Index: 983 entries, 0 to 1101\n",
      "Data columns (total 27 columns):\n",
      " #   Column                      Non-Null Count  Dtype  \n",
      "---  ------                      --------------  -----  \n",
      " 0   product_link                983 non-null    object \n",
      " 1   product_name                983 non-null    object \n",
      " 2   brand                       983 non-null    object \n",
      " 3   current_price               983 non-null    float64\n",
      " 4   rating                      983 non-null    object \n",
      " 5   review_count                983 non-null    object \n",
      " 6   Refresh_Rate                983 non-null    float64\n",
      " 7   Contrast_Ratio              983 non-null    object \n",
      " 8   Response_Time               983 non-null    float64\n",
      " 9   Synchronization_Technology  947 non-null    object \n",
      " 10  Panel_Type                  977 non-null    object \n",
      " 11  Curved_Screen               958 non-null    object \n",
      " 12  Pixel_Density               180 non-null    float64\n",
      " 13  Brightness                  983 non-null    float64\n",
      " 14  Screen_Size                 983 non-null    float64\n",
      " 15  HDR                         950 non-null    object \n",
      " 16  Smart_Display               300 non-null    object \n",
      " 17  Touch_Screen                586 non-null    object \n",
      " 18  Quantum_Dot_Technology      185 non-null    object \n",
      " 19  Headphone_Jack              536 non-null    object \n",
      " 20  Voice_Assistant             370 non-null    object \n",
      " 21  Wall_Mountable              968 non-null    object \n",
      " 22  Anti_Glare                  610 non-null    object \n",
      " 23  Speaker                     943 non-null    object \n",
      " 24  Webcam                      944 non-null    object \n",
      " 25  Power_Consumption           599 non-null    float64\n",
      " 26  Weight                      983 non-null    float64\n",
      "dtypes: float64(8), object(19)\n",
      "memory usage: 215.0+ KB\n"
     ]
    }
   ],
   "source": [
    "df.info()"
   ]
  },
  {
   "cell_type": "code",
   "execution_count": 652,
   "id": "beef924e",
   "metadata": {},
   "outputs": [
    {
     "data": {
      "text/plain": [
       "array(['1000', '3000', '10000000', '600', '100000000', '80000000',\n",
       "       '50000000', '1000000', '2500', '5000', '3000000', '500', '4000',\n",
       "       '20000000', '700', '1300', '120000000', '1200', '8000000', '3500',\n",
       "       '800', '12000000', '1100', '350', '1200:', 'Infini', '8000',\n",
       "       '100000'], dtype=object)"
      ]
     },
     "execution_count": 652,
     "metadata": {},
     "output_type": "execute_result"
    }
   ],
   "source": [
    "df['Contrast_Ratio'].unique()"
   ]
  },
  {
   "cell_type": "code",
   "execution_count": 653,
   "id": "dc7296d8",
   "metadata": {},
   "outputs": [
    {
     "data": {
      "text/plain": [
       "array([ 5.  ,  4.  ,  2.  ,  1.  ,  8.  ,  0.5 ,  7.  , 15.  , 30.  ,\n",
       "        6.  ,  9.  , 14.  ,  6.5 ,  0.4 , 25.  ,  3.  , 16.  , 12.  ,\n",
       "        4.49])"
      ]
     },
     "execution_count": 653,
     "metadata": {},
     "output_type": "execute_result"
    }
   ],
   "source": [
    "df['Response_Time'].unique()"
   ]
  },
  {
   "cell_type": "code",
   "execution_count": 654,
   "id": "79471032",
   "metadata": {},
   "outputs": [],
   "source": [
    "mask1=df[df['Contrast_Ratio']=='Infini'].index\n",
    "df = df.drop(mask1, axis=0)"
   ]
  },
  {
   "cell_type": "code",
   "execution_count": 655,
   "id": "8189b7a5",
   "metadata": {},
   "outputs": [],
   "source": [
    "df['Contrast_Ratio']=df['Contrast_Ratio'].str.strip(\":\")"
   ]
  },
  {
   "cell_type": "code",
   "execution_count": 656,
   "id": "0baf390e",
   "metadata": {},
   "outputs": [],
   "source": [
    "df['Contrast_Ratio']=df['Contrast_Ratio'].astype(\"float\")"
   ]
  },
  {
   "cell_type": "code",
   "execution_count": 657,
   "id": "d423463e",
   "metadata": {},
   "outputs": [
    {
     "data": {
      "text/plain": [
       "array(['4.6', '4.7', '4.5', '4.8', '4.3', '4.4', '4.1', '5', '4', '4.9',\n",
       "       '4.2', 'Yet', '3.7', '3', '2.8', '3.8', '3.5', '1', '2', '3.6',\n",
       "       '3.4', '2.6', '2.5', '2.4', '2.7', '1.8'], dtype=object)"
      ]
     },
     "execution_count": 657,
     "metadata": {},
     "output_type": "execute_result"
    }
   ],
   "source": [
    "df.rating.unique()"
   ]
  },
  {
   "cell_type": "code",
   "execution_count": 658,
   "id": "5b72efaf",
   "metadata": {},
   "outputs": [],
   "source": [
    "#\"Yet\" means \"no reviews yet\"\n",
    "#mask2=\n",
    "df[df['rating']=='Yet'].index\n",
    "#drop rows with out reviews\n",
    "mask2=df[df['rating']=='Yet'].index\n",
    "df = df.drop(mask2, axis=0)\n",
    "#df = df.drop(mask1, axis=0)"
   ]
  },
  {
   "cell_type": "code",
   "execution_count": 659,
   "id": "17b04a81",
   "metadata": {},
   "outputs": [],
   "source": [
    "df['rating']=df['rating'].astype(\"float\")\n",
    "df['review_count']=df['review_count'].astype(\"float\")"
   ]
  },
  {
   "cell_type": "code",
   "execution_count": 660,
   "id": "b882b234",
   "metadata": {},
   "outputs": [
    {
     "name": "stdout",
     "output_type": "stream",
     "text": [
      "<class 'pandas.core.frame.DataFrame'>\n",
      "Int64Index: 766 entries, 0 to 1084\n",
      "Data columns (total 27 columns):\n",
      " #   Column                      Non-Null Count  Dtype  \n",
      "---  ------                      --------------  -----  \n",
      " 0   product_link                766 non-null    object \n",
      " 1   product_name                766 non-null    object \n",
      " 2   brand                       766 non-null    object \n",
      " 3   current_price               766 non-null    float64\n",
      " 4   rating                      766 non-null    float64\n",
      " 5   review_count                766 non-null    float64\n",
      " 6   Refresh_Rate                766 non-null    float64\n",
      " 7   Contrast_Ratio              766 non-null    float64\n",
      " 8   Response_Time               766 non-null    float64\n",
      " 9   Synchronization_Technology  762 non-null    object \n",
      " 10  Panel_Type                  762 non-null    object \n",
      " 11  Curved_Screen               764 non-null    object \n",
      " 12  Pixel_Density               148 non-null    float64\n",
      " 13  Brightness                  766 non-null    float64\n",
      " 14  Screen_Size                 766 non-null    float64\n",
      " 15  HDR                         758 non-null    object \n",
      " 16  Smart_Display               267 non-null    object \n",
      " 17  Touch_Screen                474 non-null    object \n",
      " 18  Quantum_Dot_Technology      174 non-null    object \n",
      " 19  Headphone_Jack              457 non-null    object \n",
      " 20  Voice_Assistant             297 non-null    object \n",
      " 21  Wall_Mountable              762 non-null    object \n",
      " 22  Anti_Glare                  482 non-null    object \n",
      " 23  Speaker                     756 non-null    object \n",
      " 24  Webcam                      758 non-null    object \n",
      " 25  Power_Consumption           468 non-null    float64\n",
      " 26  Weight                      766 non-null    float64\n",
      "dtypes: float64(11), object(16)\n",
      "memory usage: 167.6+ KB\n"
     ]
    }
   ],
   "source": [
    "#Check how many null values I have currently\n",
    "df.info()"
   ]
  },
  {
   "cell_type": "code",
   "execution_count": 661,
   "id": "1f235273",
   "metadata": {},
   "outputs": [],
   "source": [
    "df.dropna(how='any', subset=['Synchronization_Technology','Panel_Type','HDR','Speaker','Webcam','Wall_Mountable'],inplace=True)"
   ]
  },
  {
   "cell_type": "code",
   "execution_count": 662,
   "id": "20368177",
   "metadata": {},
   "outputs": [
    {
     "name": "stdout",
     "output_type": "stream",
     "text": [
      "<class 'pandas.core.frame.DataFrame'>\n",
      "Int64Index: 748 entries, 0 to 1084\n",
      "Data columns (total 27 columns):\n",
      " #   Column                      Non-Null Count  Dtype  \n",
      "---  ------                      --------------  -----  \n",
      " 0   product_link                748 non-null    object \n",
      " 1   product_name                748 non-null    object \n",
      " 2   brand                       748 non-null    object \n",
      " 3   current_price               748 non-null    float64\n",
      " 4   rating                      748 non-null    float64\n",
      " 5   review_count                748 non-null    float64\n",
      " 6   Refresh_Rate                748 non-null    float64\n",
      " 7   Contrast_Ratio              748 non-null    float64\n",
      " 8   Response_Time               748 non-null    float64\n",
      " 9   Synchronization_Technology  748 non-null    object \n",
      " 10  Panel_Type                  748 non-null    object \n",
      " 11  Curved_Screen               748 non-null    object \n",
      " 12  Pixel_Density               144 non-null    float64\n",
      " 13  Brightness                  748 non-null    float64\n",
      " 14  Screen_Size                 748 non-null    float64\n",
      " 15  HDR                         748 non-null    object \n",
      " 16  Smart_Display               257 non-null    object \n",
      " 17  Touch_Screen                460 non-null    object \n",
      " 18  Quantum_Dot_Technology      172 non-null    object \n",
      " 19  Headphone_Jack              449 non-null    object \n",
      " 20  Voice_Assistant             293 non-null    object \n",
      " 21  Wall_Mountable              748 non-null    object \n",
      " 22  Anti_Glare                  468 non-null    object \n",
      " 23  Speaker                     748 non-null    object \n",
      " 24  Webcam                      748 non-null    object \n",
      " 25  Power_Consumption           458 non-null    float64\n",
      " 26  Weight                      748 non-null    float64\n",
      "dtypes: float64(11), object(16)\n",
      "memory usage: 163.6+ KB\n"
     ]
    }
   ],
   "source": [
    "df.info()"
   ]
  },
  {
   "cell_type": "code",
   "execution_count": 663,
   "id": "cdbdc233",
   "metadata": {},
   "outputs": [],
   "source": [
    "#Drop numeric features that have significantly amount of null values\n",
    "df.drop(columns=['Pixel_Density','Power_Consumption'],inplace=True)"
   ]
  },
  {
   "cell_type": "code",
   "execution_count": 664,
   "id": "68527e7b",
   "metadata": {},
   "outputs": [
    {
     "name": "stdout",
     "output_type": "stream",
     "text": [
      "<class 'pandas.core.frame.DataFrame'>\n",
      "Int64Index: 748 entries, 0 to 1084\n",
      "Data columns (total 25 columns):\n",
      " #   Column                      Non-Null Count  Dtype  \n",
      "---  ------                      --------------  -----  \n",
      " 0   product_link                748 non-null    object \n",
      " 1   product_name                748 non-null    object \n",
      " 2   brand                       748 non-null    object \n",
      " 3   current_price               748 non-null    float64\n",
      " 4   rating                      748 non-null    float64\n",
      " 5   review_count                748 non-null    float64\n",
      " 6   Refresh_Rate                748 non-null    float64\n",
      " 7   Contrast_Ratio              748 non-null    float64\n",
      " 8   Response_Time               748 non-null    float64\n",
      " 9   Synchronization_Technology  748 non-null    object \n",
      " 10  Panel_Type                  748 non-null    object \n",
      " 11  Curved_Screen               748 non-null    object \n",
      " 12  Brightness                  748 non-null    float64\n",
      " 13  Screen_Size                 748 non-null    float64\n",
      " 14  HDR                         748 non-null    object \n",
      " 15  Smart_Display               257 non-null    object \n",
      " 16  Touch_Screen                460 non-null    object \n",
      " 17  Quantum_Dot_Technology      172 non-null    object \n",
      " 18  Headphone_Jack              449 non-null    object \n",
      " 19  Voice_Assistant             293 non-null    object \n",
      " 20  Wall_Mountable              748 non-null    object \n",
      " 21  Anti_Glare                  468 non-null    object \n",
      " 22  Speaker                     748 non-null    object \n",
      " 23  Webcam                      748 non-null    object \n",
      " 24  Weight                      748 non-null    float64\n",
      "dtypes: float64(9), object(16)\n",
      "memory usage: 151.9+ KB\n"
     ]
    }
   ],
   "source": [
    "df.info()"
   ]
  },
  {
   "cell_type": "markdown",
   "id": "174c9914",
   "metadata": {},
   "source": [
    "Now columns that have null values are:\n",
    "'Smart_Display', 'Touch_Screen', 'Quantum_Dot_Technology','Headphone_Jack','Voice_Assistant','Anti_Glare'"
   ]
  },
  {
   "cell_type": "code",
   "execution_count": 665,
   "id": "58d24b43",
   "metadata": {},
   "outputs": [
    {
     "data": {
      "text/plain": [
       "No     247\n",
       "Yes     10\n",
       "Name: Smart_Display, dtype: int64"
      ]
     },
     "execution_count": 665,
     "metadata": {},
     "output_type": "execute_result"
    }
   ],
   "source": [
    "df['Smart_Display'].value_counts()"
   ]
  },
  {
   "cell_type": "code",
   "execution_count": 666,
   "id": "0a6ee510",
   "metadata": {},
   "outputs": [
    {
     "data": {
      "text/plain": [
       "No     452\n",
       "Yes      8\n",
       "Name: Touch_Screen, dtype: int64"
      ]
     },
     "execution_count": 666,
     "metadata": {},
     "output_type": "execute_result"
    }
   ],
   "source": [
    "df['Touch_Screen'].value_counts()"
   ]
  },
  {
   "cell_type": "code",
   "execution_count": 667,
   "id": "adb5805a",
   "metadata": {},
   "outputs": [
    {
     "data": {
      "text/plain": [
       "No     154\n",
       "Yes     18\n",
       "Name: Quantum_Dot_Technology, dtype: int64"
      ]
     },
     "execution_count": 667,
     "metadata": {},
     "output_type": "execute_result"
    }
   ],
   "source": [
    "df['Quantum_Dot_Technology'].value_counts()"
   ]
  },
  {
   "cell_type": "code",
   "execution_count": 668,
   "id": "79f8d05c",
   "metadata": {},
   "outputs": [
    {
     "data": {
      "text/plain": [
       "Yes    354\n",
       "No      95\n",
       "Name: Headphone_Jack, dtype: int64"
      ]
     },
     "execution_count": 668,
     "metadata": {},
     "output_type": "execute_result"
    }
   ],
   "source": [
    "df['Headphone_Jack'].value_counts()"
   ]
  },
  {
   "cell_type": "code",
   "execution_count": 669,
   "id": "f9d7e18e",
   "metadata": {},
   "outputs": [
    {
     "data": {
      "text/plain": [
       "No                     186\n",
       "Not Applicable          93\n",
       "Bixby                   10\n",
       "Amazon Alexa, Bixby      2\n",
       "Cortana                  2\n",
       "Name: Voice_Assistant, dtype: int64"
      ]
     },
     "execution_count": 669,
     "metadata": {},
     "output_type": "execute_result"
    }
   ],
   "source": [
    "df['Voice_Assistant'].value_counts()"
   ]
  },
  {
   "cell_type": "code",
   "execution_count": 670,
   "id": "e40dce55",
   "metadata": {},
   "outputs": [
    {
     "data": {
      "text/plain": [
       "No                    186\n",
       "Not Applicable         93\n",
       "Bixby                  10\n",
       "Amazon Alexa Bixby      2\n",
       "Cortana                 2\n",
       "Name: Voice_Assistant, dtype: int64"
      ]
     },
     "execution_count": 670,
     "metadata": {},
     "output_type": "execute_result"
    }
   ],
   "source": [
    "df['Voice_Assistant']=df['Voice_Assistant'].str.replace(\",\",\"\")\n",
    "df['Voice_Assistant'].value_counts()"
   ]
  },
  {
   "cell_type": "code",
   "execution_count": 671,
   "id": "ad426243",
   "metadata": {},
   "outputs": [
    {
     "data": {
      "text/plain": [
       "No                  279\n",
       "Yes                  12\n",
       "Amazon Alexa Yes      2\n",
       "Name: Voice_Assistant, dtype: int64"
      ]
     },
     "execution_count": 671,
     "metadata": {},
     "output_type": "execute_result"
    }
   ],
   "source": [
    "df['Voice_Assistant']=df['Voice_Assistant'].str.replace(\"Not Applicable\",\"No\")\n",
    "df['Voice_Assistant']=df['Voice_Assistant'].str.replace(\"Bixby\",\"Yes\")\n",
    "df['Voice_Assistant']=df['Voice_Assistant'].str.replace(\"Amazon Alexa Bixby\",\"Yes\")\n",
    "df['Voice_Assistant']=df['Voice_Assistant'].str.replace(\"Cortana\",\"Yes\")\n",
    "df['Voice_Assistant'].value_counts()"
   ]
  },
  {
   "cell_type": "code",
   "execution_count": 672,
   "id": "6b48dc43",
   "metadata": {},
   "outputs": [
    {
     "data": {
      "text/plain": [
       "No     279\n",
       "Yes     14\n",
       "Name: Voice_Assistant, dtype: int64"
      ]
     },
     "execution_count": 672,
     "metadata": {},
     "output_type": "execute_result"
    }
   ],
   "source": [
    "df['Voice_Assistant']=df['Voice_Assistant'].str.replace(\"Amazon Alexa Yes\",\"Yes\")\n",
    "df['Voice_Assistant'].value_counts()"
   ]
  },
  {
   "cell_type": "code",
   "execution_count": 673,
   "id": "16e3055b",
   "metadata": {},
   "outputs": [
    {
     "data": {
      "text/plain": [
       "Yes    426\n",
       "No      42\n",
       "Name: Anti_Glare, dtype: int64"
      ]
     },
     "execution_count": 673,
     "metadata": {},
     "output_type": "execute_result"
    }
   ],
   "source": [
    "df['Anti_Glare'].value_counts()"
   ]
  },
  {
   "cell_type": "code",
   "execution_count": 674,
   "id": "b3292b89",
   "metadata": {},
   "outputs": [],
   "source": [
    "#Replace rest null with \"No\" because if it's not found then it's very likely not exist\n",
    "df.fillna(value='No', inplace=True)"
   ]
  },
  {
   "cell_type": "code",
   "execution_count": 675,
   "id": "c75c62af",
   "metadata": {},
   "outputs": [
    {
     "data": {
      "text/html": [
       "<div>\n",
       "<style scoped>\n",
       "    .dataframe tbody tr th:only-of-type {\n",
       "        vertical-align: middle;\n",
       "    }\n",
       "\n",
       "    .dataframe tbody tr th {\n",
       "        vertical-align: top;\n",
       "    }\n",
       "\n",
       "    .dataframe thead th {\n",
       "        text-align: right;\n",
       "    }\n",
       "</style>\n",
       "<table border=\"1\" class=\"dataframe\">\n",
       "  <thead>\n",
       "    <tr style=\"text-align: right;\">\n",
       "      <th></th>\n",
       "      <th>product_link</th>\n",
       "      <th>product_name</th>\n",
       "      <th>brand</th>\n",
       "      <th>current_price</th>\n",
       "      <th>rating</th>\n",
       "      <th>review_count</th>\n",
       "      <th>Refresh_Rate</th>\n",
       "      <th>Contrast_Ratio</th>\n",
       "      <th>Response_Time</th>\n",
       "      <th>Synchronization_Technology</th>\n",
       "      <th>...</th>\n",
       "      <th>Smart_Display</th>\n",
       "      <th>Touch_Screen</th>\n",
       "      <th>Quantum_Dot_Technology</th>\n",
       "      <th>Headphone_Jack</th>\n",
       "      <th>Voice_Assistant</th>\n",
       "      <th>Wall_Mountable</th>\n",
       "      <th>Anti_Glare</th>\n",
       "      <th>Speaker</th>\n",
       "      <th>Webcam</th>\n",
       "      <th>Weight</th>\n",
       "    </tr>\n",
       "  </thead>\n",
       "  <tbody>\n",
       "    <tr>\n",
       "      <th>0</th>\n",
       "      <td>https://www.bestbuy.com/site/samsung-t350-seri...</td>\n",
       "      <td>Samsung - T350 Series 24\" IPS LED FHD, FreeSyn...</td>\n",
       "      <td>Samsung</td>\n",
       "      <td>139.99</td>\n",
       "      <td>4.6</td>\n",
       "      <td>1838.0</td>\n",
       "      <td>75.0</td>\n",
       "      <td>1000.0</td>\n",
       "      <td>5.0</td>\n",
       "      <td>FreeSync (AMD Adaptive Sync)</td>\n",
       "      <td>...</td>\n",
       "      <td>No</td>\n",
       "      <td>No</td>\n",
       "      <td>No</td>\n",
       "      <td>No</td>\n",
       "      <td>No</td>\n",
       "      <td>Yes</td>\n",
       "      <td>No</td>\n",
       "      <td>No</td>\n",
       "      <td>No</td>\n",
       "      <td>5.95</td>\n",
       "    </tr>\n",
       "    <tr>\n",
       "      <th>1</th>\n",
       "      <td>https://www.bestbuy.com/site/samsung-390-serie...</td>\n",
       "      <td>Samsung - 390 Series 24\" LED Curved FHD FreeSy...</td>\n",
       "      <td>Samsung</td>\n",
       "      <td>139.99</td>\n",
       "      <td>4.7</td>\n",
       "      <td>5106.0</td>\n",
       "      <td>60.0</td>\n",
       "      <td>3000.0</td>\n",
       "      <td>4.0</td>\n",
       "      <td>FreeSync (AMD Adaptive Sync)</td>\n",
       "      <td>...</td>\n",
       "      <td>No</td>\n",
       "      <td>No</td>\n",
       "      <td>No</td>\n",
       "      <td>Yes</td>\n",
       "      <td>No</td>\n",
       "      <td>Yes</td>\n",
       "      <td>No</td>\n",
       "      <td>No</td>\n",
       "      <td>No</td>\n",
       "      <td>7.30</td>\n",
       "    </tr>\n",
       "    <tr>\n",
       "      <th>2</th>\n",
       "      <td>https://www.bestbuy.com/site/lg-34-ultrawide-f...</td>\n",
       "      <td>LG 34” UltraWide Full HD HDR Monitor with Free...</td>\n",
       "      <td>LG</td>\n",
       "      <td>299.99</td>\n",
       "      <td>4.5</td>\n",
       "      <td>425.0</td>\n",
       "      <td>75.0</td>\n",
       "      <td>1000.0</td>\n",
       "      <td>5.0</td>\n",
       "      <td>FreeSync (AMD Adaptive Sync)</td>\n",
       "      <td>...</td>\n",
       "      <td>No</td>\n",
       "      <td>No</td>\n",
       "      <td>No</td>\n",
       "      <td>Yes</td>\n",
       "      <td>No</td>\n",
       "      <td>Yes</td>\n",
       "      <td>Yes</td>\n",
       "      <td>No</td>\n",
       "      <td>No</td>\n",
       "      <td>13.10</td>\n",
       "    </tr>\n",
       "    <tr>\n",
       "      <th>3</th>\n",
       "      <td>https://www.bestbuy.com/site/dell-s3222dgm-32-...</td>\n",
       "      <td>Dell - S3222DGM 32\" LED Curved QHD FreeSync Ga...</td>\n",
       "      <td>Dell</td>\n",
       "      <td>299.99</td>\n",
       "      <td>4.8</td>\n",
       "      <td>277.0</td>\n",
       "      <td>165.0</td>\n",
       "      <td>3000.0</td>\n",
       "      <td>2.0</td>\n",
       "      <td>FreeSync Premium (AMD Adaptive Sync)</td>\n",
       "      <td>...</td>\n",
       "      <td>No</td>\n",
       "      <td>No</td>\n",
       "      <td>No</td>\n",
       "      <td>Yes</td>\n",
       "      <td>No</td>\n",
       "      <td>Yes</td>\n",
       "      <td>Yes</td>\n",
       "      <td>No</td>\n",
       "      <td>No</td>\n",
       "      <td>22.40</td>\n",
       "    </tr>\n",
       "    <tr>\n",
       "      <th>4</th>\n",
       "      <td>https://www.bestbuy.com/site/samsung-ur55-seri...</td>\n",
       "      <td>Samsung - UR55 Series 28\" IPS 4K UHD Monitor -...</td>\n",
       "      <td>Samsung</td>\n",
       "      <td>319.99</td>\n",
       "      <td>4.6</td>\n",
       "      <td>1840.0</td>\n",
       "      <td>60.0</td>\n",
       "      <td>1000.0</td>\n",
       "      <td>4.0</td>\n",
       "      <td>FreeSync (AMD Adaptive Sync)</td>\n",
       "      <td>...</td>\n",
       "      <td>No</td>\n",
       "      <td>No</td>\n",
       "      <td>No</td>\n",
       "      <td>No</td>\n",
       "      <td>No</td>\n",
       "      <td>Yes</td>\n",
       "      <td>No</td>\n",
       "      <td>No</td>\n",
       "      <td>No</td>\n",
       "      <td>12.80</td>\n",
       "    </tr>\n",
       "    <tr>\n",
       "      <th>...</th>\n",
       "      <td>...</td>\n",
       "      <td>...</td>\n",
       "      <td>...</td>\n",
       "      <td>...</td>\n",
       "      <td>...</td>\n",
       "      <td>...</td>\n",
       "      <td>...</td>\n",
       "      <td>...</td>\n",
       "      <td>...</td>\n",
       "      <td>...</td>\n",
       "      <td>...</td>\n",
       "      <td>...</td>\n",
       "      <td>...</td>\n",
       "      <td>...</td>\n",
       "      <td>...</td>\n",
       "      <td>...</td>\n",
       "      <td>...</td>\n",
       "      <td>...</td>\n",
       "      <td>...</td>\n",
       "      <td>...</td>\n",
       "      <td>...</td>\n",
       "    </tr>\n",
       "    <tr>\n",
       "      <th>1066</th>\n",
       "      <td>https://www.bestbuy.com/site/lg-geek-squad-cer...</td>\n",
       "      <td>LG - Geek Squad Certified Refurbished 34WL500-...</td>\n",
       "      <td>LG</td>\n",
       "      <td>314.99</td>\n",
       "      <td>3.4</td>\n",
       "      <td>9.0</td>\n",
       "      <td>75.0</td>\n",
       "      <td>1000.0</td>\n",
       "      <td>5.0</td>\n",
       "      <td>FreeSync (AMD Adaptive Sync)</td>\n",
       "      <td>...</td>\n",
       "      <td>No</td>\n",
       "      <td>No</td>\n",
       "      <td>No</td>\n",
       "      <td>Yes</td>\n",
       "      <td>No</td>\n",
       "      <td>Yes</td>\n",
       "      <td>Yes</td>\n",
       "      <td>No</td>\n",
       "      <td>No</td>\n",
       "      <td>15.20</td>\n",
       "    </tr>\n",
       "    <tr>\n",
       "      <th>1067</th>\n",
       "      <td>https://www.bestbuy.com/site/alienware-geek-sq...</td>\n",
       "      <td>Alienware - Geek Squad Certified Refurbished 2...</td>\n",
       "      <td>Alienware</td>\n",
       "      <td>386.99</td>\n",
       "      <td>1.0</td>\n",
       "      <td>3.0</td>\n",
       "      <td>240.0</td>\n",
       "      <td>1000.0</td>\n",
       "      <td>1.0</td>\n",
       "      <td>FreeSync (AMD Adaptive Sync)</td>\n",
       "      <td>...</td>\n",
       "      <td>No</td>\n",
       "      <td>No</td>\n",
       "      <td>No</td>\n",
       "      <td>Yes</td>\n",
       "      <td>No</td>\n",
       "      <td>Yes</td>\n",
       "      <td>Yes</td>\n",
       "      <td>No</td>\n",
       "      <td>No</td>\n",
       "      <td>20.40</td>\n",
       "    </tr>\n",
       "    <tr>\n",
       "      <th>1072</th>\n",
       "      <td>https://www.bestbuy.com/site/viewsonic-va2246m...</td>\n",
       "      <td>ViewSonic VA2246MH-LED 22 Inch Full HD 1080p -...</td>\n",
       "      <td>ViewSonic</td>\n",
       "      <td>159.99</td>\n",
       "      <td>4.5</td>\n",
       "      <td>49.0</td>\n",
       "      <td>60.0</td>\n",
       "      <td>1000.0</td>\n",
       "      <td>5.0</td>\n",
       "      <td>Not Applicable</td>\n",
       "      <td>...</td>\n",
       "      <td>No</td>\n",
       "      <td>No</td>\n",
       "      <td>No</td>\n",
       "      <td>No</td>\n",
       "      <td>No</td>\n",
       "      <td>Yes</td>\n",
       "      <td>Yes</td>\n",
       "      <td>Yes</td>\n",
       "      <td>No</td>\n",
       "      <td>7.67</td>\n",
       "    </tr>\n",
       "    <tr>\n",
       "      <th>1082</th>\n",
       "      <td>https://www.bestbuy.com/site/benq-pd3200q-desi...</td>\n",
       "      <td>BenQ - PD3200Q DesignVue 32\"1440p QHD VA Monit...</td>\n",
       "      <td>BenQ</td>\n",
       "      <td>399.99</td>\n",
       "      <td>4.8</td>\n",
       "      <td>9.0</td>\n",
       "      <td>60.0</td>\n",
       "      <td>20000000.0</td>\n",
       "      <td>4.0</td>\n",
       "      <td>Not Applicable</td>\n",
       "      <td>...</td>\n",
       "      <td>No</td>\n",
       "      <td>No</td>\n",
       "      <td>No</td>\n",
       "      <td>No</td>\n",
       "      <td>No</td>\n",
       "      <td>Yes</td>\n",
       "      <td>Yes</td>\n",
       "      <td>Yes</td>\n",
       "      <td>No</td>\n",
       "      <td>18.70</td>\n",
       "    </tr>\n",
       "    <tr>\n",
       "      <th>1084</th>\n",
       "      <td>https://www.bestbuy.com/site/lg-geek-squad-cer...</td>\n",
       "      <td>LG - Geek Squad Certified Refurbished 27UL600-...</td>\n",
       "      <td>LG</td>\n",
       "      <td>309.99</td>\n",
       "      <td>2.8</td>\n",
       "      <td>8.0</td>\n",
       "      <td>60.0</td>\n",
       "      <td>1000.0</td>\n",
       "      <td>5.0</td>\n",
       "      <td>FreeSync (AMD Adaptive Sync)</td>\n",
       "      <td>...</td>\n",
       "      <td>No</td>\n",
       "      <td>No</td>\n",
       "      <td>No</td>\n",
       "      <td>Yes</td>\n",
       "      <td>No</td>\n",
       "      <td>Yes</td>\n",
       "      <td>Yes</td>\n",
       "      <td>Yes</td>\n",
       "      <td>No</td>\n",
       "      <td>11.50</td>\n",
       "    </tr>\n",
       "  </tbody>\n",
       "</table>\n",
       "<p>748 rows × 25 columns</p>\n",
       "</div>"
      ],
      "text/plain": [
       "                                           product_link  \\\n",
       "0     https://www.bestbuy.com/site/samsung-t350-seri...   \n",
       "1     https://www.bestbuy.com/site/samsung-390-serie...   \n",
       "2     https://www.bestbuy.com/site/lg-34-ultrawide-f...   \n",
       "3     https://www.bestbuy.com/site/dell-s3222dgm-32-...   \n",
       "4     https://www.bestbuy.com/site/samsung-ur55-seri...   \n",
       "...                                                 ...   \n",
       "1066  https://www.bestbuy.com/site/lg-geek-squad-cer...   \n",
       "1067  https://www.bestbuy.com/site/alienware-geek-sq...   \n",
       "1072  https://www.bestbuy.com/site/viewsonic-va2246m...   \n",
       "1082  https://www.bestbuy.com/site/benq-pd3200q-desi...   \n",
       "1084  https://www.bestbuy.com/site/lg-geek-squad-cer...   \n",
       "\n",
       "                                           product_name      brand  \\\n",
       "0     Samsung - T350 Series 24\" IPS LED FHD, FreeSyn...    Samsung   \n",
       "1     Samsung - 390 Series 24\" LED Curved FHD FreeSy...    Samsung   \n",
       "2     LG 34” UltraWide Full HD HDR Monitor with Free...         LG   \n",
       "3     Dell - S3222DGM 32\" LED Curved QHD FreeSync Ga...       Dell   \n",
       "4     Samsung - UR55 Series 28\" IPS 4K UHD Monitor -...    Samsung   \n",
       "...                                                 ...        ...   \n",
       "1066  LG - Geek Squad Certified Refurbished 34WL500-...         LG   \n",
       "1067  Alienware - Geek Squad Certified Refurbished 2...  Alienware   \n",
       "1072  ViewSonic VA2246MH-LED 22 Inch Full HD 1080p -...  ViewSonic   \n",
       "1082  BenQ - PD3200Q DesignVue 32\"1440p QHD VA Monit...       BenQ   \n",
       "1084  LG - Geek Squad Certified Refurbished 27UL600-...         LG   \n",
       "\n",
       "      current_price  rating  review_count  Refresh_Rate  Contrast_Ratio  \\\n",
       "0            139.99     4.6        1838.0          75.0          1000.0   \n",
       "1            139.99     4.7        5106.0          60.0          3000.0   \n",
       "2            299.99     4.5         425.0          75.0          1000.0   \n",
       "3            299.99     4.8         277.0         165.0          3000.0   \n",
       "4            319.99     4.6        1840.0          60.0          1000.0   \n",
       "...             ...     ...           ...           ...             ...   \n",
       "1066         314.99     3.4           9.0          75.0          1000.0   \n",
       "1067         386.99     1.0           3.0         240.0          1000.0   \n",
       "1072         159.99     4.5          49.0          60.0          1000.0   \n",
       "1082         399.99     4.8           9.0          60.0      20000000.0   \n",
       "1084         309.99     2.8           8.0          60.0          1000.0   \n",
       "\n",
       "      Response_Time            Synchronization_Technology  ... Smart_Display  \\\n",
       "0               5.0          FreeSync (AMD Adaptive Sync)  ...            No   \n",
       "1               4.0          FreeSync (AMD Adaptive Sync)  ...            No   \n",
       "2               5.0          FreeSync (AMD Adaptive Sync)  ...            No   \n",
       "3               2.0  FreeSync Premium (AMD Adaptive Sync)  ...            No   \n",
       "4               4.0          FreeSync (AMD Adaptive Sync)  ...            No   \n",
       "...             ...                                   ...  ...           ...   \n",
       "1066            5.0          FreeSync (AMD Adaptive Sync)  ...            No   \n",
       "1067            1.0          FreeSync (AMD Adaptive Sync)  ...            No   \n",
       "1072            5.0                        Not Applicable  ...            No   \n",
       "1082            4.0                        Not Applicable  ...            No   \n",
       "1084            5.0          FreeSync (AMD Adaptive Sync)  ...            No   \n",
       "\n",
       "     Touch_Screen  Quantum_Dot_Technology  Headphone_Jack Voice_Assistant  \\\n",
       "0              No                      No              No              No   \n",
       "1              No                      No             Yes              No   \n",
       "2              No                      No             Yes              No   \n",
       "3              No                      No             Yes              No   \n",
       "4              No                      No              No              No   \n",
       "...           ...                     ...             ...             ...   \n",
       "1066           No                      No             Yes              No   \n",
       "1067           No                      No             Yes              No   \n",
       "1072           No                      No              No              No   \n",
       "1082           No                      No              No              No   \n",
       "1084           No                      No             Yes              No   \n",
       "\n",
       "     Wall_Mountable Anti_Glare Speaker Webcam Weight  \n",
       "0               Yes         No      No     No   5.95  \n",
       "1               Yes         No      No     No   7.30  \n",
       "2               Yes        Yes      No     No  13.10  \n",
       "3               Yes        Yes      No     No  22.40  \n",
       "4               Yes         No      No     No  12.80  \n",
       "...             ...        ...     ...    ...    ...  \n",
       "1066            Yes        Yes      No     No  15.20  \n",
       "1067            Yes        Yes      No     No  20.40  \n",
       "1072            Yes        Yes     Yes     No   7.67  \n",
       "1082            Yes        Yes     Yes     No  18.70  \n",
       "1084            Yes        Yes     Yes     No  11.50  \n",
       "\n",
       "[748 rows x 25 columns]"
      ]
     },
     "execution_count": 675,
     "metadata": {},
     "output_type": "execute_result"
    }
   ],
   "source": [
    "df"
   ]
  },
  {
   "cell_type": "code",
   "execution_count": 676,
   "id": "ef4e877c",
   "metadata": {},
   "outputs": [
    {
     "data": {
      "text/plain": [
       "Not Applicable                                                                        288\n",
       "FreeSync (AMD Adaptive Sync)                                                          249\n",
       "FreeSync Premium (AMD Adaptive Sync)                                                   48\n",
       "G-SYNC (NVIDIA Adaptive Sync)                                                          26\n",
       "FreeSync (AMD Adaptive Sync), G-SYNC Compatible (NVIDIA Adaptive Sync)                 23\n",
       "FreeSync Premium (AMD Adaptive Sync), G-SYNC Compatible (NVIDIA Adaptive Sync)         22\n",
       "G-SYNC Compatible (NVIDIA Adaptive Sync)                                               20\n",
       "VSync                                                                                  16\n",
       "FreeSync Premium Pro (AMD Adaptive Sync), G-SYNC Compatible (NVIDIA Adaptive Sync)     10\n",
       "FreeSync Premium Pro (AMD Adaptive Sync)                                               10\n",
       "FreeSync Premium (AMD Adaptive Sync), FreeSync (AMD Adaptive Sync)                      8\n",
       "G-SYNC (NVIDIA Adaptive Sync), FreeSync Premium (AMD Adaptive Sync)                     6\n",
       "G-SYNC Compatible (NVIDIA Adaptive Sync), FreeSync Premium (AMD Adaptive Sync)          4\n",
       "G-SYNC Compatible (NVIDIA Adaptive Sync), FreeSync (AMD Adaptive Sync)                  4\n",
       "FreeSync (AMD Adaptive Sync), G-SYNC (NVIDIA Adaptive Sync)                             4\n",
       "FreeSync Premium Pro (AMD Adaptive Sync), G-SYNC (NVIDIA Adaptive Sync)                 2\n",
       "G-SYNC Ultimate (NVIDIA Adaptive Sync)                                                  2\n",
       "G-SYNC (NVIDIA Adaptive Sync), VSync                                                    2\n",
       "FreeSync Premium (AMD Adaptive Sync), Not Applicable                                    2\n",
       "G-SYNC (NVIDIA Adaptive Sync), FreeSync (AMD Adaptive Sync)                             2\n",
       "Name: Synchronization_Technology, dtype: int64"
      ]
     },
     "execution_count": 676,
     "metadata": {},
     "output_type": "execute_result"
    }
   ],
   "source": [
    "df['Synchronization_Technology'].value_counts()"
   ]
  },
  {
   "cell_type": "code",
   "execution_count": 677,
   "id": "6fe184a1",
   "metadata": {},
   "outputs": [
    {
     "name": "stderr",
     "output_type": "stream",
     "text": [
      "/var/folders/4q/s5vk58v95472hjx15zb8y_940000gn/T/ipykernel_49109/4042257787.py:1: FutureWarning: The default value of regex will change from True to False in a future version. In addition, single character regular expressions will *not* be treated as literal strings when regex=True.\n",
      "  df['Synchronization_Technology']=df['Synchronization_Technology'].str.replace(\"(\",\"\")\n",
      "/var/folders/4q/s5vk58v95472hjx15zb8y_940000gn/T/ipykernel_49109/4042257787.py:2: FutureWarning: The default value of regex will change from True to False in a future version. In addition, single character regular expressions will *not* be treated as literal strings when regex=True.\n",
      "  df['Synchronization_Technology']=df['Synchronization_Technology'].str.replace(\")\",\"\")\n"
     ]
    }
   ],
   "source": [
    "df['Synchronization_Technology']=df['Synchronization_Technology'].str.replace(\"(\",\"\")\n",
    "df['Synchronization_Technology']=df['Synchronization_Technology'].str.replace(\")\",\"\")"
   ]
  },
  {
   "cell_type": "code",
   "execution_count": 678,
   "id": "04244bcd",
   "metadata": {},
   "outputs": [
    {
     "data": {
      "text/plain": [
       "Not Applicable                                                                    288\n",
       "FreeSync AMD Adaptive Sync                                                        249\n",
       "FreeSync Premium AMD Adaptive Sync                                                 48\n",
       "G-SYNC NVIDIA Adaptive Sync                                                        26\n",
       "FreeSync AMD Adaptive Sync, G-SYNC Compatible NVIDIA Adaptive Sync                 23\n",
       "FreeSync Premium AMD Adaptive Sync, G-SYNC Compatible NVIDIA Adaptive Sync         22\n",
       "G-SYNC Compatible NVIDIA Adaptive Sync                                             20\n",
       "VSync                                                                              16\n",
       "FreeSync Premium Pro AMD Adaptive Sync, G-SYNC Compatible NVIDIA Adaptive Sync     10\n",
       "FreeSync Premium Pro AMD Adaptive Sync                                             10\n",
       "FreeSync Premium AMD Adaptive Sync, FreeSync AMD Adaptive Sync                      8\n",
       "G-SYNC NVIDIA Adaptive Sync, FreeSync Premium AMD Adaptive Sync                     6\n",
       "G-SYNC Compatible NVIDIA Adaptive Sync, FreeSync Premium AMD Adaptive Sync          4\n",
       "G-SYNC Compatible NVIDIA Adaptive Sync, FreeSync AMD Adaptive Sync                  4\n",
       "FreeSync AMD Adaptive Sync, G-SYNC NVIDIA Adaptive Sync                             4\n",
       "FreeSync Premium Pro AMD Adaptive Sync, G-SYNC NVIDIA Adaptive Sync                 2\n",
       "G-SYNC Ultimate NVIDIA Adaptive Sync                                                2\n",
       "G-SYNC NVIDIA Adaptive Sync, VSync                                                  2\n",
       "FreeSync Premium AMD Adaptive Sync, Not Applicable                                  2\n",
       "G-SYNC NVIDIA Adaptive Sync, FreeSync AMD Adaptive Sync                             2\n",
       "Name: Synchronization_Technology, dtype: int64"
      ]
     },
     "execution_count": 678,
     "metadata": {},
     "output_type": "execute_result"
    }
   ],
   "source": [
    "df['Synchronization_Technology'].value_counts()"
   ]
  },
  {
   "cell_type": "code",
   "execution_count": 679,
   "id": "2e7352c0",
   "metadata": {},
   "outputs": [],
   "source": [
    "df['Synchronization_Technology']=df['Synchronization_Technology'].str.replace(\",\",\"\")"
   ]
  },
  {
   "cell_type": "code",
   "execution_count": 680,
   "id": "9ea3a1ca",
   "metadata": {},
   "outputs": [],
   "source": [
    "df['Synchronization_Technology']=df['Synchronization_Technology'].str.replace(\"FreeSync AMD Adaptive Sync\",\"FreeSync\")"
   ]
  },
  {
   "cell_type": "code",
   "execution_count": 681,
   "id": "98c8cc1f",
   "metadata": {},
   "outputs": [],
   "source": [
    "df['Synchronization_Technology']=df['Synchronization_Technology'].str.replace(\"FreeSync Premium AMD Adaptive Sync\",\"FreeSync\")"
   ]
  },
  {
   "cell_type": "code",
   "execution_count": 682,
   "id": "748c2121",
   "metadata": {},
   "outputs": [],
   "source": [
    "df['Synchronization_Technology']=df['Synchronization_Technology'].str.replace(\"FreeSync G-SYNC Compatible NVIDIA Adaptive Sync\",\"FreeSync&G-SYNC\")"
   ]
  },
  {
   "cell_type": "code",
   "execution_count": 683,
   "id": "5fb5bff6",
   "metadata": {},
   "outputs": [],
   "source": [
    "df['Synchronization_Technology']=df['Synchronization_Technology'].str.replace(\"G-SYNC NVIDIA Adaptive Sync\",\"G-SYNC\")"
   ]
  },
  {
   "cell_type": "code",
   "execution_count": 684,
   "id": "d922346c",
   "metadata": {},
   "outputs": [],
   "source": [
    "df['Synchronization_Technology']=df['Synchronization_Technology'].str.replace(\"G-SYNC Compatible NVIDIA Adaptive Sync\",\"G-SYNC\")"
   ]
  },
  {
   "cell_type": "code",
   "execution_count": 700,
   "id": "eb051a93",
   "metadata": {},
   "outputs": [],
   "source": [
    "df['Synchronization_Technology']=df['Synchronization_Technology'].str.replace(\"G-SYNC NVIDIA Adaptive Sync\",\"G-SYNC\")"
   ]
  },
  {
   "cell_type": "code",
   "execution_count": 699,
   "id": "251150d5",
   "metadata": {},
   "outputs": [],
   "source": [
    "df['Synchronization_Technology']=df['Synchronization_Technology'].str.replace(\"G-SYNC FreeSync\",\"FreeSync&G-SYNC\")"
   ]
  },
  {
   "cell_type": "code",
   "execution_count": 687,
   "id": "168d34fe",
   "metadata": {},
   "outputs": [],
   "source": [
    "df['Synchronization_Technology']=df['Synchronization_Technology'].str.replace(\"FreeSync FreeSync\",\"FreeSync\")"
   ]
  },
  {
   "cell_type": "code",
   "execution_count": 688,
   "id": "123cec07",
   "metadata": {},
   "outputs": [],
   "source": [
    "df['Synchronization_Technology']=df['Synchronization_Technology'].str.replace(\"FreeSync G-SYNC\",\"FreeSync&G-SYNC\")"
   ]
  },
  {
   "cell_type": "code",
   "execution_count": 689,
   "id": "204f32bf",
   "metadata": {},
   "outputs": [],
   "source": [
    "df['Synchronization_Technology']=df['Synchronization_Technology'].str.replace(\"FreeSync G-SYNC\",\"FreeSync&G-SYNC\")"
   ]
  },
  {
   "cell_type": "code",
   "execution_count": 690,
   "id": "4a784904",
   "metadata": {},
   "outputs": [],
   "source": [
    "df['Synchronization_Technology']=df['Synchronization_Technology'].str.replace(\"FreeSync Premium Pro AMD Adaptive Sync G-SYNC\",\"FreeSync Premium&G-SYNC\")"
   ]
  },
  {
   "cell_type": "code",
   "execution_count": 691,
   "id": "9ae6c3a4",
   "metadata": {},
   "outputs": [],
   "source": [
    "df['Synchronization_Technology']=df['Synchronization_Technology'].str.replace(\"FreeSync Premium Pro AMD Adaptive Sync\",\"FreeSync Premium\")"
   ]
  },
  {
   "cell_type": "code",
   "execution_count": 692,
   "id": "aed164b5",
   "metadata": {},
   "outputs": [],
   "source": [
    "df['Synchronization_Technology']=df['Synchronization_Technology'].str.replace(\"FreeSync Premium&G-SYNC\",\"FreeSync&G-SYNC\")"
   ]
  },
  {
   "cell_type": "code",
   "execution_count": 693,
   "id": "8c2c1c90",
   "metadata": {},
   "outputs": [],
   "source": [
    "df['Synchronization_Technology']=df['Synchronization_Technology'].str.replace(\"FreeSync Not Applicable\",\"FreeSync\")"
   ]
  },
  {
   "cell_type": "code",
   "execution_count": 694,
   "id": "8977c9a2",
   "metadata": {},
   "outputs": [],
   "source": [
    "df['Synchronization_Technology']=df['Synchronization_Technology'].str.replace(\"FreeSync Premium\",\"FreeSync\")"
   ]
  },
  {
   "cell_type": "code",
   "execution_count": 695,
   "id": "9cc176ba",
   "metadata": {},
   "outputs": [],
   "source": [
    "df['Synchronization_Technology']=df['Synchronization_Technology'].str.replace(\"G-SYNC Ultimate\",\"G-SYNC\")"
   ]
  },
  {
   "cell_type": "code",
   "execution_count": 696,
   "id": "21d8c9e6",
   "metadata": {},
   "outputs": [],
   "source": [
    "df['Synchronization_Technology']=df['Synchronization_Technology'].str.replace(\"G-SYNC VSync\",\"G-SYNC&VSync\")"
   ]
  },
  {
   "cell_type": "code",
   "execution_count": 701,
   "id": "9e8eb381",
   "metadata": {},
   "outputs": [
    {
     "data": {
      "text/plain": [
       "FreeSync           317\n",
       "Not Applicable     288\n",
       "FreeSync&G-SYNC     77\n",
       "G-SYNC              48\n",
       "VSync               16\n",
       "G-SYNC&VSync         2\n",
       "Name: Synchronization_Technology, dtype: int64"
      ]
     },
     "execution_count": 701,
     "metadata": {},
     "output_type": "execute_result"
    }
   ],
   "source": [
    "df['Synchronization_Technology'].value_counts()"
   ]
  },
  {
   "cell_type": "code",
   "execution_count": null,
   "id": "a77ec1fd",
   "metadata": {},
   "outputs": [],
   "source": []
  },
  {
   "cell_type": "markdown",
   "id": "f4d3fcce",
   "metadata": {},
   "source": [
    "### Final cleaned data"
   ]
  },
  {
   "cell_type": "code",
   "execution_count": 702,
   "id": "31dc461f",
   "metadata": {},
   "outputs": [],
   "source": [
    "df.reset_index(drop=True, inplace=True)"
   ]
  },
  {
   "cell_type": "code",
   "execution_count": 703,
   "id": "7fd894cb",
   "metadata": {},
   "outputs": [
    {
     "name": "stdout",
     "output_type": "stream",
     "text": [
      "<class 'pandas.core.frame.DataFrame'>\n",
      "RangeIndex: 748 entries, 0 to 747\n",
      "Data columns (total 25 columns):\n",
      " #   Column                      Non-Null Count  Dtype  \n",
      "---  ------                      --------------  -----  \n",
      " 0   product_link                748 non-null    object \n",
      " 1   product_name                748 non-null    object \n",
      " 2   brand                       748 non-null    object \n",
      " 3   current_price               748 non-null    float64\n",
      " 4   rating                      748 non-null    float64\n",
      " 5   review_count                748 non-null    float64\n",
      " 6   Refresh_Rate                748 non-null    float64\n",
      " 7   Contrast_Ratio              748 non-null    float64\n",
      " 8   Response_Time               748 non-null    float64\n",
      " 9   Synchronization_Technology  748 non-null    object \n",
      " 10  Panel_Type                  748 non-null    object \n",
      " 11  Curved_Screen               748 non-null    object \n",
      " 12  Brightness                  748 non-null    float64\n",
      " 13  Screen_Size                 748 non-null    float64\n",
      " 14  HDR                         748 non-null    object \n",
      " 15  Smart_Display               748 non-null    object \n",
      " 16  Touch_Screen                748 non-null    object \n",
      " 17  Quantum_Dot_Technology      748 non-null    object \n",
      " 18  Headphone_Jack              748 non-null    object \n",
      " 19  Voice_Assistant             748 non-null    object \n",
      " 20  Wall_Mountable              748 non-null    object \n",
      " 21  Anti_Glare                  748 non-null    object \n",
      " 22  Speaker                     748 non-null    object \n",
      " 23  Webcam                      748 non-null    object \n",
      " 24  Weight                      748 non-null    float64\n",
      "dtypes: float64(9), object(16)\n",
      "memory usage: 146.2+ KB\n"
     ]
    }
   ],
   "source": [
    "df.info()"
   ]
  },
  {
   "cell_type": "code",
   "execution_count": 704,
   "id": "d1e9e437",
   "metadata": {},
   "outputs": [
    {
     "data": {
      "text/html": [
       "<div>\n",
       "<style scoped>\n",
       "    .dataframe tbody tr th:only-of-type {\n",
       "        vertical-align: middle;\n",
       "    }\n",
       "\n",
       "    .dataframe tbody tr th {\n",
       "        vertical-align: top;\n",
       "    }\n",
       "\n",
       "    .dataframe thead th {\n",
       "        text-align: right;\n",
       "    }\n",
       "</style>\n",
       "<table border=\"1\" class=\"dataframe\">\n",
       "  <thead>\n",
       "    <tr style=\"text-align: right;\">\n",
       "      <th></th>\n",
       "      <th>product_link</th>\n",
       "      <th>product_name</th>\n",
       "      <th>brand</th>\n",
       "      <th>current_price</th>\n",
       "      <th>rating</th>\n",
       "      <th>review_count</th>\n",
       "      <th>Refresh_Rate</th>\n",
       "      <th>Contrast_Ratio</th>\n",
       "      <th>Response_Time</th>\n",
       "      <th>Synchronization_Technology</th>\n",
       "      <th>...</th>\n",
       "      <th>Smart_Display</th>\n",
       "      <th>Touch_Screen</th>\n",
       "      <th>Quantum_Dot_Technology</th>\n",
       "      <th>Headphone_Jack</th>\n",
       "      <th>Voice_Assistant</th>\n",
       "      <th>Wall_Mountable</th>\n",
       "      <th>Anti_Glare</th>\n",
       "      <th>Speaker</th>\n",
       "      <th>Webcam</th>\n",
       "      <th>Weight</th>\n",
       "    </tr>\n",
       "  </thead>\n",
       "  <tbody>\n",
       "    <tr>\n",
       "      <th>0</th>\n",
       "      <td>https://www.bestbuy.com/site/samsung-t350-seri...</td>\n",
       "      <td>Samsung - T350 Series 24\" IPS LED FHD, FreeSyn...</td>\n",
       "      <td>Samsung</td>\n",
       "      <td>139.99</td>\n",
       "      <td>4.6</td>\n",
       "      <td>1838.0</td>\n",
       "      <td>75.0</td>\n",
       "      <td>1000.0</td>\n",
       "      <td>5.0</td>\n",
       "      <td>FreeSync</td>\n",
       "      <td>...</td>\n",
       "      <td>No</td>\n",
       "      <td>No</td>\n",
       "      <td>No</td>\n",
       "      <td>No</td>\n",
       "      <td>No</td>\n",
       "      <td>Yes</td>\n",
       "      <td>No</td>\n",
       "      <td>No</td>\n",
       "      <td>No</td>\n",
       "      <td>5.95</td>\n",
       "    </tr>\n",
       "    <tr>\n",
       "      <th>1</th>\n",
       "      <td>https://www.bestbuy.com/site/samsung-390-serie...</td>\n",
       "      <td>Samsung - 390 Series 24\" LED Curved FHD FreeSy...</td>\n",
       "      <td>Samsung</td>\n",
       "      <td>139.99</td>\n",
       "      <td>4.7</td>\n",
       "      <td>5106.0</td>\n",
       "      <td>60.0</td>\n",
       "      <td>3000.0</td>\n",
       "      <td>4.0</td>\n",
       "      <td>FreeSync</td>\n",
       "      <td>...</td>\n",
       "      <td>No</td>\n",
       "      <td>No</td>\n",
       "      <td>No</td>\n",
       "      <td>Yes</td>\n",
       "      <td>No</td>\n",
       "      <td>Yes</td>\n",
       "      <td>No</td>\n",
       "      <td>No</td>\n",
       "      <td>No</td>\n",
       "      <td>7.30</td>\n",
       "    </tr>\n",
       "    <tr>\n",
       "      <th>2</th>\n",
       "      <td>https://www.bestbuy.com/site/lg-34-ultrawide-f...</td>\n",
       "      <td>LG 34” UltraWide Full HD HDR Monitor with Free...</td>\n",
       "      <td>LG</td>\n",
       "      <td>299.99</td>\n",
       "      <td>4.5</td>\n",
       "      <td>425.0</td>\n",
       "      <td>75.0</td>\n",
       "      <td>1000.0</td>\n",
       "      <td>5.0</td>\n",
       "      <td>FreeSync</td>\n",
       "      <td>...</td>\n",
       "      <td>No</td>\n",
       "      <td>No</td>\n",
       "      <td>No</td>\n",
       "      <td>Yes</td>\n",
       "      <td>No</td>\n",
       "      <td>Yes</td>\n",
       "      <td>Yes</td>\n",
       "      <td>No</td>\n",
       "      <td>No</td>\n",
       "      <td>13.10</td>\n",
       "    </tr>\n",
       "    <tr>\n",
       "      <th>3</th>\n",
       "      <td>https://www.bestbuy.com/site/dell-s3222dgm-32-...</td>\n",
       "      <td>Dell - S3222DGM 32\" LED Curved QHD FreeSync Ga...</td>\n",
       "      <td>Dell</td>\n",
       "      <td>299.99</td>\n",
       "      <td>4.8</td>\n",
       "      <td>277.0</td>\n",
       "      <td>165.0</td>\n",
       "      <td>3000.0</td>\n",
       "      <td>2.0</td>\n",
       "      <td>FreeSync</td>\n",
       "      <td>...</td>\n",
       "      <td>No</td>\n",
       "      <td>No</td>\n",
       "      <td>No</td>\n",
       "      <td>Yes</td>\n",
       "      <td>No</td>\n",
       "      <td>Yes</td>\n",
       "      <td>Yes</td>\n",
       "      <td>No</td>\n",
       "      <td>No</td>\n",
       "      <td>22.40</td>\n",
       "    </tr>\n",
       "    <tr>\n",
       "      <th>4</th>\n",
       "      <td>https://www.bestbuy.com/site/samsung-ur55-seri...</td>\n",
       "      <td>Samsung - UR55 Series 28\" IPS 4K UHD Monitor -...</td>\n",
       "      <td>Samsung</td>\n",
       "      <td>319.99</td>\n",
       "      <td>4.6</td>\n",
       "      <td>1840.0</td>\n",
       "      <td>60.0</td>\n",
       "      <td>1000.0</td>\n",
       "      <td>4.0</td>\n",
       "      <td>FreeSync</td>\n",
       "      <td>...</td>\n",
       "      <td>No</td>\n",
       "      <td>No</td>\n",
       "      <td>No</td>\n",
       "      <td>No</td>\n",
       "      <td>No</td>\n",
       "      <td>Yes</td>\n",
       "      <td>No</td>\n",
       "      <td>No</td>\n",
       "      <td>No</td>\n",
       "      <td>12.80</td>\n",
       "    </tr>\n",
       "    <tr>\n",
       "      <th>...</th>\n",
       "      <td>...</td>\n",
       "      <td>...</td>\n",
       "      <td>...</td>\n",
       "      <td>...</td>\n",
       "      <td>...</td>\n",
       "      <td>...</td>\n",
       "      <td>...</td>\n",
       "      <td>...</td>\n",
       "      <td>...</td>\n",
       "      <td>...</td>\n",
       "      <td>...</td>\n",
       "      <td>...</td>\n",
       "      <td>...</td>\n",
       "      <td>...</td>\n",
       "      <td>...</td>\n",
       "      <td>...</td>\n",
       "      <td>...</td>\n",
       "      <td>...</td>\n",
       "      <td>...</td>\n",
       "      <td>...</td>\n",
       "      <td>...</td>\n",
       "    </tr>\n",
       "    <tr>\n",
       "      <th>743</th>\n",
       "      <td>https://www.bestbuy.com/site/lg-geek-squad-cer...</td>\n",
       "      <td>LG - Geek Squad Certified Refurbished 34WL500-...</td>\n",
       "      <td>LG</td>\n",
       "      <td>314.99</td>\n",
       "      <td>3.4</td>\n",
       "      <td>9.0</td>\n",
       "      <td>75.0</td>\n",
       "      <td>1000.0</td>\n",
       "      <td>5.0</td>\n",
       "      <td>FreeSync</td>\n",
       "      <td>...</td>\n",
       "      <td>No</td>\n",
       "      <td>No</td>\n",
       "      <td>No</td>\n",
       "      <td>Yes</td>\n",
       "      <td>No</td>\n",
       "      <td>Yes</td>\n",
       "      <td>Yes</td>\n",
       "      <td>No</td>\n",
       "      <td>No</td>\n",
       "      <td>15.20</td>\n",
       "    </tr>\n",
       "    <tr>\n",
       "      <th>744</th>\n",
       "      <td>https://www.bestbuy.com/site/alienware-geek-sq...</td>\n",
       "      <td>Alienware - Geek Squad Certified Refurbished 2...</td>\n",
       "      <td>Alienware</td>\n",
       "      <td>386.99</td>\n",
       "      <td>1.0</td>\n",
       "      <td>3.0</td>\n",
       "      <td>240.0</td>\n",
       "      <td>1000.0</td>\n",
       "      <td>1.0</td>\n",
       "      <td>FreeSync</td>\n",
       "      <td>...</td>\n",
       "      <td>No</td>\n",
       "      <td>No</td>\n",
       "      <td>No</td>\n",
       "      <td>Yes</td>\n",
       "      <td>No</td>\n",
       "      <td>Yes</td>\n",
       "      <td>Yes</td>\n",
       "      <td>No</td>\n",
       "      <td>No</td>\n",
       "      <td>20.40</td>\n",
       "    </tr>\n",
       "    <tr>\n",
       "      <th>745</th>\n",
       "      <td>https://www.bestbuy.com/site/viewsonic-va2246m...</td>\n",
       "      <td>ViewSonic VA2246MH-LED 22 Inch Full HD 1080p -...</td>\n",
       "      <td>ViewSonic</td>\n",
       "      <td>159.99</td>\n",
       "      <td>4.5</td>\n",
       "      <td>49.0</td>\n",
       "      <td>60.0</td>\n",
       "      <td>1000.0</td>\n",
       "      <td>5.0</td>\n",
       "      <td>Not Applicable</td>\n",
       "      <td>...</td>\n",
       "      <td>No</td>\n",
       "      <td>No</td>\n",
       "      <td>No</td>\n",
       "      <td>No</td>\n",
       "      <td>No</td>\n",
       "      <td>Yes</td>\n",
       "      <td>Yes</td>\n",
       "      <td>Yes</td>\n",
       "      <td>No</td>\n",
       "      <td>7.67</td>\n",
       "    </tr>\n",
       "    <tr>\n",
       "      <th>746</th>\n",
       "      <td>https://www.bestbuy.com/site/benq-pd3200q-desi...</td>\n",
       "      <td>BenQ - PD3200Q DesignVue 32\"1440p QHD VA Monit...</td>\n",
       "      <td>BenQ</td>\n",
       "      <td>399.99</td>\n",
       "      <td>4.8</td>\n",
       "      <td>9.0</td>\n",
       "      <td>60.0</td>\n",
       "      <td>20000000.0</td>\n",
       "      <td>4.0</td>\n",
       "      <td>Not Applicable</td>\n",
       "      <td>...</td>\n",
       "      <td>No</td>\n",
       "      <td>No</td>\n",
       "      <td>No</td>\n",
       "      <td>No</td>\n",
       "      <td>No</td>\n",
       "      <td>Yes</td>\n",
       "      <td>Yes</td>\n",
       "      <td>Yes</td>\n",
       "      <td>No</td>\n",
       "      <td>18.70</td>\n",
       "    </tr>\n",
       "    <tr>\n",
       "      <th>747</th>\n",
       "      <td>https://www.bestbuy.com/site/lg-geek-squad-cer...</td>\n",
       "      <td>LG - Geek Squad Certified Refurbished 27UL600-...</td>\n",
       "      <td>LG</td>\n",
       "      <td>309.99</td>\n",
       "      <td>2.8</td>\n",
       "      <td>8.0</td>\n",
       "      <td>60.0</td>\n",
       "      <td>1000.0</td>\n",
       "      <td>5.0</td>\n",
       "      <td>FreeSync</td>\n",
       "      <td>...</td>\n",
       "      <td>No</td>\n",
       "      <td>No</td>\n",
       "      <td>No</td>\n",
       "      <td>Yes</td>\n",
       "      <td>No</td>\n",
       "      <td>Yes</td>\n",
       "      <td>Yes</td>\n",
       "      <td>Yes</td>\n",
       "      <td>No</td>\n",
       "      <td>11.50</td>\n",
       "    </tr>\n",
       "  </tbody>\n",
       "</table>\n",
       "<p>748 rows × 25 columns</p>\n",
       "</div>"
      ],
      "text/plain": [
       "                                          product_link  \\\n",
       "0    https://www.bestbuy.com/site/samsung-t350-seri...   \n",
       "1    https://www.bestbuy.com/site/samsung-390-serie...   \n",
       "2    https://www.bestbuy.com/site/lg-34-ultrawide-f...   \n",
       "3    https://www.bestbuy.com/site/dell-s3222dgm-32-...   \n",
       "4    https://www.bestbuy.com/site/samsung-ur55-seri...   \n",
       "..                                                 ...   \n",
       "743  https://www.bestbuy.com/site/lg-geek-squad-cer...   \n",
       "744  https://www.bestbuy.com/site/alienware-geek-sq...   \n",
       "745  https://www.bestbuy.com/site/viewsonic-va2246m...   \n",
       "746  https://www.bestbuy.com/site/benq-pd3200q-desi...   \n",
       "747  https://www.bestbuy.com/site/lg-geek-squad-cer...   \n",
       "\n",
       "                                          product_name      brand  \\\n",
       "0    Samsung - T350 Series 24\" IPS LED FHD, FreeSyn...    Samsung   \n",
       "1    Samsung - 390 Series 24\" LED Curved FHD FreeSy...    Samsung   \n",
       "2    LG 34” UltraWide Full HD HDR Monitor with Free...         LG   \n",
       "3    Dell - S3222DGM 32\" LED Curved QHD FreeSync Ga...       Dell   \n",
       "4    Samsung - UR55 Series 28\" IPS 4K UHD Monitor -...    Samsung   \n",
       "..                                                 ...        ...   \n",
       "743  LG - Geek Squad Certified Refurbished 34WL500-...         LG   \n",
       "744  Alienware - Geek Squad Certified Refurbished 2...  Alienware   \n",
       "745  ViewSonic VA2246MH-LED 22 Inch Full HD 1080p -...  ViewSonic   \n",
       "746  BenQ - PD3200Q DesignVue 32\"1440p QHD VA Monit...       BenQ   \n",
       "747  LG - Geek Squad Certified Refurbished 27UL600-...         LG   \n",
       "\n",
       "     current_price  rating  review_count  Refresh_Rate  Contrast_Ratio  \\\n",
       "0           139.99     4.6        1838.0          75.0          1000.0   \n",
       "1           139.99     4.7        5106.0          60.0          3000.0   \n",
       "2           299.99     4.5         425.0          75.0          1000.0   \n",
       "3           299.99     4.8         277.0         165.0          3000.0   \n",
       "4           319.99     4.6        1840.0          60.0          1000.0   \n",
       "..             ...     ...           ...           ...             ...   \n",
       "743         314.99     3.4           9.0          75.0          1000.0   \n",
       "744         386.99     1.0           3.0         240.0          1000.0   \n",
       "745         159.99     4.5          49.0          60.0          1000.0   \n",
       "746         399.99     4.8           9.0          60.0      20000000.0   \n",
       "747         309.99     2.8           8.0          60.0          1000.0   \n",
       "\n",
       "     Response_Time Synchronization_Technology  ... Smart_Display Touch_Screen  \\\n",
       "0              5.0                   FreeSync  ...            No           No   \n",
       "1              4.0                   FreeSync  ...            No           No   \n",
       "2              5.0                   FreeSync  ...            No           No   \n",
       "3              2.0                   FreeSync  ...            No           No   \n",
       "4              4.0                   FreeSync  ...            No           No   \n",
       "..             ...                        ...  ...           ...          ...   \n",
       "743            5.0                   FreeSync  ...            No           No   \n",
       "744            1.0                   FreeSync  ...            No           No   \n",
       "745            5.0             Not Applicable  ...            No           No   \n",
       "746            4.0             Not Applicable  ...            No           No   \n",
       "747            5.0                   FreeSync  ...            No           No   \n",
       "\n",
       "     Quantum_Dot_Technology  Headphone_Jack Voice_Assistant Wall_Mountable  \\\n",
       "0                        No              No              No            Yes   \n",
       "1                        No             Yes              No            Yes   \n",
       "2                        No             Yes              No            Yes   \n",
       "3                        No             Yes              No            Yes   \n",
       "4                        No              No              No            Yes   \n",
       "..                      ...             ...             ...            ...   \n",
       "743                      No             Yes              No            Yes   \n",
       "744                      No             Yes              No            Yes   \n",
       "745                      No              No              No            Yes   \n",
       "746                      No              No              No            Yes   \n",
       "747                      No             Yes              No            Yes   \n",
       "\n",
       "    Anti_Glare Speaker Webcam Weight  \n",
       "0           No      No     No   5.95  \n",
       "1           No      No     No   7.30  \n",
       "2          Yes      No     No  13.10  \n",
       "3          Yes      No     No  22.40  \n",
       "4           No      No     No  12.80  \n",
       "..         ...     ...    ...    ...  \n",
       "743        Yes      No     No  15.20  \n",
       "744        Yes      No     No  20.40  \n",
       "745        Yes     Yes     No   7.67  \n",
       "746        Yes     Yes     No  18.70  \n",
       "747        Yes     Yes     No  11.50  \n",
       "\n",
       "[748 rows x 25 columns]"
      ]
     },
     "execution_count": 704,
     "metadata": {},
     "output_type": "execute_result"
    }
   ],
   "source": [
    "df"
   ]
  },
  {
   "cell_type": "code",
   "execution_count": null,
   "id": "2c10acb1",
   "metadata": {},
   "outputs": [],
   "source": []
  },
  {
   "cell_type": "code",
   "execution_count": 705,
   "id": "c3d2cffd",
   "metadata": {},
   "outputs": [],
   "source": [
    "# Save the data to local \n",
    "df.to_csv('Monitor_cleaned.csv',index=False)"
   ]
  },
  {
   "cell_type": "code",
   "execution_count": null,
   "id": "b3bb37b7",
   "metadata": {},
   "outputs": [],
   "source": []
  },
  {
   "cell_type": "code",
   "execution_count": null,
   "id": "e50b46ba",
   "metadata": {},
   "outputs": [],
   "source": []
  },
  {
   "cell_type": "code",
   "execution_count": null,
   "id": "ba9d89d0",
   "metadata": {},
   "outputs": [],
   "source": []
  }
 ],
 "metadata": {
  "kernelspec": {
   "display_name": "Python 3 (ipykernel)",
   "language": "python",
   "name": "python3"
  },
  "language_info": {
   "codemirror_mode": {
    "name": "ipython",
    "version": 3
   },
   "file_extension": ".py",
   "mimetype": "text/x-python",
   "name": "python",
   "nbconvert_exporter": "python",
   "pygments_lexer": "ipython3",
   "version": "3.9.7"
  }
 },
 "nbformat": 4,
 "nbformat_minor": 5
}
